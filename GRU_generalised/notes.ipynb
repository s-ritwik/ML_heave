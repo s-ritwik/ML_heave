{
 "cells": [
  {
   "cell_type": "markdown",
   "metadata": {},
   "source": [
    "## Suggestion:\n",
    "Alternative Loss Functions: Consider HuberLoss or Mean Absolute Error (L1Loss) if outliers are an issue.\n",
    "Adjust Weighting: Modify the weighting strategy in your custom loss to see if it improves performance."
   ]
  },
  {
   "cell_type": "markdown",
   "metadata": {},
   "source": [
    "## 15/09/24\n",
    "     Training on normalised data,different models to see if ,Shuffling and batch size matters\n",
    "     morealpha has batch 32 ,else 64"
   ]
  },
  {
   "cell_type": "markdown",
   "metadata": {},
   "source": [
    "     Try for 256_256 and 256_128_64 for 8 seconds\n",
    "\n",
    "\n",
    "     "
   ]
  },
  {
   "cell_type": "markdown",
   "metadata": {},
   "source": [
    "# 512_128_64 for 40-8\n",
    "    Average Prediction Time: 0.0134 seconds\n",
    "    Average Absolute Error for the first 3 seconds: 1.8565 cm\n",
    "    Average Absolute Error for the first 4 seconds: 2.0807 cm\n",
    "    Average Absolute Error for the first 5 seconds: 2.5012 cm\n",
    "    Total Average Absolute Error: 3.7056 cm"
   ]
  },
  {
   "cell_type": "markdown",
   "metadata": {},
   "source": []
  },
  {
   "cell_type": "markdown",
   "metadata": {},
   "source": [
    "# 256_128_64 FOR 40-8\n",
    "    Average Prediction Time:  0.0063 seconds\n",
    "    Average Absolute Error for the first 3 seconds: 1.4191 cm\n",
    "    Average Absolute Error for the first 4 seconds: 1.7679 cm\n",
    "    Average Absolute Error for the first 5 seconds: 2.0241 cm\n",
    "    Total Average Absolute Error: 3.56 cm"
   ]
  },
  {
   "cell_type": "markdown",
   "metadata": {},
   "source": [
    "# 512_512 FOR 40-8\n",
    "    Average Prediction Time: 0.0236 seconds\n",
    "    Average Absolute Error for the first 3 seconds: 1.2291 cm\n",
    "    Average Absolute Error for the first 4 seconds: 1.5690 cm\n",
    "    Average Absolute Error for the first 5 seconds: 1.8681 cm\n",
    "    Total Average Absolute Error: 3.3056 cm"
   ]
  },
  {
   "cell_type": "markdown",
   "metadata": {},
   "source": [
    "# 256_128_64 FOR 40-8\n",
    "    Average Prediction Time:  seconds\n",
    "    Average Absolute Error for the first 3 seconds:  cm\n",
    "    Average Absolute Error for the first 4 seconds:  cm\n",
    "    Average Absolute Error for the first 5 seconds:  cm\n",
    "    Total Average Absolute Error: 3.4056 cm"
   ]
  },
  {
   "cell_type": "markdown",
   "metadata": {},
   "source": []
  }
 ],
 "metadata": {
  "language_info": {
   "name": "python"
  }
 },
 "nbformat": 4,
 "nbformat_minor": 2
}
